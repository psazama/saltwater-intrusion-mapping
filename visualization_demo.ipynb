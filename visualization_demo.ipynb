{
 "cells": [
  {
   "cell_type": "code",
   "execution_count": 1,
   "id": "c27febc8-f7f0-4aad-8595-89040648f41d",
   "metadata": {},
   "outputs": [
    {
     "data": {
      "text/html": [
       "<div style=\"width:100%;\"><div style=\"position:relative;width:100%;height:0;padding-bottom:60%;\"><span style=\"color:#565656\">Make this Notebook Trusted to load map: File -> Trust Notebook</span><iframe srcdoc=\"&lt;!DOCTYPE html&gt;\n",
       "&lt;html&gt;\n",
       "&lt;head&gt;\n",
       "    \n",
       "    &lt;meta http-equiv=&quot;content-type&quot; content=&quot;text/html; charset=UTF-8&quot; /&gt;\n",
       "    &lt;script src=&quot;https://cdn.jsdelivr.net/npm/leaflet@1.9.3/dist/leaflet.js&quot;&gt;&lt;/script&gt;\n",
       "    &lt;script src=&quot;https://code.jquery.com/jquery-3.7.1.min.js&quot;&gt;&lt;/script&gt;\n",
       "    &lt;script src=&quot;https://cdn.jsdelivr.net/npm/bootstrap@5.2.2/dist/js/bootstrap.bundle.min.js&quot;&gt;&lt;/script&gt;\n",
       "    &lt;script src=&quot;https://cdnjs.cloudflare.com/ajax/libs/Leaflet.awesome-markers/2.0.2/leaflet.awesome-markers.js&quot;&gt;&lt;/script&gt;\n",
       "    &lt;link rel=&quot;stylesheet&quot; href=&quot;https://cdn.jsdelivr.net/npm/leaflet@1.9.3/dist/leaflet.css&quot;/&gt;\n",
       "    &lt;link rel=&quot;stylesheet&quot; href=&quot;https://cdn.jsdelivr.net/npm/bootstrap@5.2.2/dist/css/bootstrap.min.css&quot;/&gt;\n",
       "    &lt;link rel=&quot;stylesheet&quot; href=&quot;https://netdna.bootstrapcdn.com/bootstrap/3.0.0/css/bootstrap-glyphicons.css&quot;/&gt;\n",
       "    &lt;link rel=&quot;stylesheet&quot; href=&quot;https://cdn.jsdelivr.net/npm/@fortawesome/fontawesome-free@6.2.0/css/all.min.css&quot;/&gt;\n",
       "    &lt;link rel=&quot;stylesheet&quot; href=&quot;https://cdnjs.cloudflare.com/ajax/libs/Leaflet.awesome-markers/2.0.2/leaflet.awesome-markers.css&quot;/&gt;\n",
       "    &lt;link rel=&quot;stylesheet&quot; href=&quot;https://cdn.jsdelivr.net/gh/python-visualization/folium/folium/templates/leaflet.awesome.rotate.min.css&quot;/&gt;\n",
       "    \n",
       "            &lt;meta name=&quot;viewport&quot; content=&quot;width=device-width,\n",
       "                initial-scale=1.0, maximum-scale=1.0, user-scalable=no&quot; /&gt;\n",
       "            &lt;style&gt;\n",
       "                #map_bf5f8e9ae5dba47a2aaa9b75008a8309 {\n",
       "                    position: relative;\n",
       "                    width: 100.0%;\n",
       "                    height: 100.0%;\n",
       "                    left: 0.0%;\n",
       "                    top: 0.0%;\n",
       "                }\n",
       "                .leaflet-container { font-size: 1rem; }\n",
       "            &lt;/style&gt;\n",
       "\n",
       "            &lt;style&gt;html, body {\n",
       "                width: 100%;\n",
       "                height: 100%;\n",
       "                margin: 0;\n",
       "                padding: 0;\n",
       "            }\n",
       "            &lt;/style&gt;\n",
       "\n",
       "            &lt;style&gt;#map {\n",
       "                position:absolute;\n",
       "                top:0;\n",
       "                bottom:0;\n",
       "                right:0;\n",
       "                left:0;\n",
       "                }\n",
       "            &lt;/style&gt;\n",
       "\n",
       "            &lt;script&gt;\n",
       "                L_NO_TOUCH = false;\n",
       "                L_DISABLE_3D = false;\n",
       "            &lt;/script&gt;\n",
       "\n",
       "        \n",
       "&lt;/head&gt;\n",
       "&lt;body&gt;\n",
       "    \n",
       "    \n",
       "            &lt;div class=&quot;folium-map&quot; id=&quot;map_bf5f8e9ae5dba47a2aaa9b75008a8309&quot; &gt;&lt;/div&gt;\n",
       "        \n",
       "&lt;/body&gt;\n",
       "&lt;script&gt;\n",
       "    \n",
       "    \n",
       "            var map_bf5f8e9ae5dba47a2aaa9b75008a8309 = L.map(\n",
       "                &quot;map_bf5f8e9ae5dba47a2aaa9b75008a8309&quot;,\n",
       "                {\n",
       "                    center: [38.786065074710564, -75.68],\n",
       "                    crs: L.CRS.EPSG3857,\n",
       "                    ...{\n",
       "  &quot;zoom&quot;: 8,\n",
       "  &quot;zoomControl&quot;: true,\n",
       "  &quot;preferCanvas&quot;: false,\n",
       "}\n",
       "\n",
       "                }\n",
       "            );\n",
       "\n",
       "            \n",
       "\n",
       "        \n",
       "    \n",
       "            var tile_layer_f05efa2381b2b8de3f03727fad582def = L.tileLayer(\n",
       "                &quot;https://tile.openstreetmap.org/{z}/{x}/{y}.png&quot;,\n",
       "                {\n",
       "  &quot;minZoom&quot;: 0,\n",
       "  &quot;maxZoom&quot;: 19,\n",
       "  &quot;maxNativeZoom&quot;: 19,\n",
       "  &quot;noWrap&quot;: false,\n",
       "  &quot;attribution&quot;: &quot;\\u0026copy; \\u003ca href=\\&quot;https://www.openstreetmap.org/copyright\\&quot;\\u003eOpenStreetMap\\u003c/a\\u003e contributors&quot;,\n",
       "  &quot;subdomains&quot;: &quot;abc&quot;,\n",
       "  &quot;detectRetina&quot;: false,\n",
       "  &quot;tms&quot;: false,\n",
       "  &quot;opacity&quot;: 1,\n",
       "}\n",
       "\n",
       "            );\n",
       "        \n",
       "    \n",
       "            tile_layer_f05efa2381b2b8de3f03727fad582def.addTo(map_bf5f8e9ae5dba47a2aaa9b75008a8309);\n",
       "        \n",
       "    \n",
       "\n",
       "        function geo_json_e2d013186eb6f95a2390b3b027a45f88_onEachFeature(feature, layer) {\n",
       "\n",
       "            layer.on({\n",
       "            });\n",
       "        };\n",
       "        var geo_json_e2d013186eb6f95a2390b3b027a45f88 = L.geoJson(null, {\n",
       "                onEachFeature: geo_json_e2d013186eb6f95a2390b3b027a45f88_onEachFeature,\n",
       "            \n",
       "            ...{\n",
       "}\n",
       "        });\n",
       "\n",
       "        function geo_json_e2d013186eb6f95a2390b3b027a45f88_add (data) {\n",
       "            geo_json_e2d013186eb6f95a2390b3b027a45f88\n",
       "                .addData(data);\n",
       "        }\n",
       "            geo_json_e2d013186eb6f95a2390b3b027a45f88_add({&quot;bbox&quot;: [-76.31, 37.85, -75.05, 39.71], &quot;features&quot;: [{&quot;bbox&quot;: [-76.31, 37.85, -75.05, 39.71], &quot;geometry&quot;: {&quot;coordinates&quot;: [[[-76.31, 39.71], [-76.31, 37.85], [-75.05, 37.85], [-75.05, 39.71], [-76.31, 39.71]]], &quot;type&quot;: &quot;Polygon&quot;}, &quot;id&quot;: &quot;0&quot;, &quot;properties&quot;: {&quot;name&quot;: &quot;Eastern Shore MD&quot;}, &quot;type&quot;: &quot;Feature&quot;}], &quot;type&quot;: &quot;FeatureCollection&quot;});\n",
       "        geo_json_e2d013186eb6f95a2390b3b027a45f88.setStyle(function(feature) {return feature.properties.style;});\n",
       "\n",
       "        \n",
       "    \n",
       "            geo_json_e2d013186eb6f95a2390b3b027a45f88.addTo(map_bf5f8e9ae5dba47a2aaa9b75008a8309);\n",
       "        \n",
       "&lt;/script&gt;\n",
       "&lt;/html&gt;\" style=\"position:absolute;width:100%;height:100%;left:0;top:0;border:none !important;\" allowfullscreen webkitallowfullscreen mozallowfullscreen></iframe></div></div>"
      ],
      "text/plain": [
       "<folium.folium.Map at 0x7412db61c050>"
      ]
     },
     "execution_count": 1,
     "metadata": {},
     "output_type": "execute_result"
    }
   ],
   "source": [
    "import geopandas as gpd\n",
    "import folium\n",
    "\n",
    "# Load the GeoJSON\n",
    "gdf = gpd.read_file(\"easternshore.geojson\")\n",
    "\n",
    "# Reproject to Web Mercator (EPSG:3857) for accurate centroid\n",
    "gdf_proj = gdf.to_crs(epsg=3857)\n",
    "\n",
    "# Calculate centroid in projected space\n",
    "centroid_proj = gdf_proj.geometry.centroid.iloc[0]\n",
    "\n",
    "# Transform centroid back to WGS84 (EPSG:4326) for folium\n",
    "centroid_wgs = gpd.GeoSeries(centroid_proj, crs=3857).to_crs(epsg=4326).geometry.iloc[0]\n",
    "\n",
    "# Create folium map centered at the correct location\n",
    "m = folium.Map(location=[centroid_wgs.y, centroid_wgs.x], zoom_start=8)\n",
    "\n",
    "# Add GeoJSON to the map (original data in EPSG:4326)\n",
    "folium.GeoJson(gdf).add_to(m)\n",
    "\n",
    "m"
   ]
  },
  {
   "cell_type": "code",
   "execution_count": 2,
   "id": "ffe931b7-7758-4d1c-90b4-ada9c750b23a",
   "metadata": {},
   "outputs": [],
   "source": [
    "from data_downloader import create_mosaic_placeholder, query_satellite_items, download_satellite_bands_from_item, add_image_to_mosaic, reproject_bbox\n",
    "\n",
    "# Ensure it's in WGS84 (EPSG:4326) for STAC API compatibility\n",
    "if gdf.crs != \"EPSG:4326\":\n",
    "    gdf = gdf.to_crs(\"EPSG:4326\")\n",
    "\n",
    "# Get bounding box: [min_lon, min_lat, max_lon, max_lat]\n",
    "bbox = gdf.total_bounds.tolist()"
   ]
  },
  {
   "cell_type": "code",
   "execution_count": 3,
   "id": "9ae90c4e-db56-4b66-b1f5-b50073bd1414",
   "metadata": {},
   "outputs": [
    {
     "data": {
      "text/plain": [
       "(Affine(10.000441161326375, 0.0, 384749.1197805174,\n",
       "        0.0, -10.00005450435221, 4395572.057381475),\n",
       " 11096,\n",
       " 20559,\n",
       " 'EPSG:32618')"
      ]
     },
     "execution_count": 3,
     "metadata": {},
     "output_type": "execute_result"
    }
   ],
   "source": [
    "landsat5_mosaic_path = \"data/landsat_eastern_shore.tif\"\n",
    "landsat5_resolution = 30\n",
    "create_mosaic_placeholder(\n",
    "    mosaic_path=landsat5_mosaic_path,\n",
    "    bbox=reproject_bbox(bbox),\n",
    "    resolution=landsat5_resolution,\n",
    "    crs=\"EPSG:32618\",\n",
    "    dtype=\"float32\"\n",
    ")\n",
    "\n",
    "sentinel2_mosaic_path = \"data/sentinel_eastern_shore.tif\"\n",
    "sentinel_resolution = 10\n",
    "create_mosaic_placeholder(\n",
    "    mosaic_path=sentinel2_mosaic_path,\n",
    "    bbox=reproject_bbox(bbox),\n",
    "    resolution=sentinel_resolution,\n",
    "    crs=\"EPSG:32618\",\n",
    "    dtype=\"float32\"\n",
    ")"
   ]
  },
  {
   "cell_type": "code",
   "execution_count": null,
   "id": "62c7191e-f68d-4f31-91df-c7bfc06db844",
   "metadata": {},
   "outputs": [
    {
     "name": "stderr",
     "output_type": "stream",
     "text": [
      "/home/patriciasazama/miniconda3/envs/saltmapping/lib/python3.13/site-packages/pystac_client/item_search.py:881: FutureWarning: get_items() is deprecated, use items() instead\n",
      "  warnings.warn(\n"
     ]
    },
    {
     "name": "stdout",
     "output_type": "stream",
     "text": [
      "landsat-5  1985-01-01/1985-01-31 No items found for your search.\n"
     ]
    },
    {
     "name": "stderr",
     "output_type": "stream",
     "text": [
      "  2%|▉                                         | 11/495 [00:00<00:39, 12.21it/s]"
     ]
    },
    {
     "name": "stdout",
     "output_type": "stream",
     "text": [
      "sentinel-2  1985-01-01/1985-01-31 No items found for your search.\n"
     ]
    },
    {
     "name": "stderr",
     "output_type": "stream",
     "text": [
      "  2%|▉                                         | 11/495 [00:19<00:39, 12.21it/s]"
     ]
    },
    {
     "name": "stdout",
     "output_type": "stream",
     "text": [
      "landsat-5  1986-01-01/1986-01-31 band index 2 out of range (not in (1,))\n"
     ]
    },
    {
     "name": "stderr",
     "output_type": "stream",
     "text": [
      "/home/patriciasazama/miniconda3/envs/saltmapping/lib/python3.13/site-packages/pystac_client/item_search.py:881: FutureWarning: get_items() is deprecated, use items() instead\n",
      "  warnings.warn(\n",
      "  5%|█▉                                        | 23/495 [00:22<08:54,  1.13s/it]"
     ]
    },
    {
     "name": "stdout",
     "output_type": "stream",
     "text": [
      "sentinel-2  1986-01-01/1986-01-31 No items found for your search.\n",
      "landsat-5  1987-01-01/1987-01-31 band index 2 out of range (not in (1,))\n"
     ]
    },
    {
     "name": "stderr",
     "output_type": "stream",
     "text": [
      "/home/patriciasazama/miniconda3/envs/saltmapping/lib/python3.13/site-packages/pystac_client/item_search.py:881: FutureWarning: get_items() is deprecated, use items() instead\n",
      "  warnings.warn(\n",
      "  7%|██▉                                       | 35/495 [00:49<12:31,  1.63s/it]"
     ]
    },
    {
     "name": "stdout",
     "output_type": "stream",
     "text": [
      "sentinel-2  1987-01-01/1987-01-31 No items found for your search.\n",
      "landsat-5  1988-01-01/1988-01-31 band index 2 out of range (not in (1,))\n"
     ]
    },
    {
     "name": "stderr",
     "output_type": "stream",
     "text": [
      "/home/patriciasazama/miniconda3/envs/saltmapping/lib/python3.13/site-packages/pystac_client/item_search.py:881: FutureWarning: get_items() is deprecated, use items() instead\n",
      "  warnings.warn(\n",
      "  9%|███▉                                      | 47/495 [01:00<10:08,  1.36s/it]"
     ]
    },
    {
     "name": "stdout",
     "output_type": "stream",
     "text": [
      "sentinel-2  1988-01-01/1988-01-31 No items found for your search.\n",
      "landsat-5  1989-01-01/1989-01-31 band index 2 out of range (not in (1,))\n"
     ]
    },
    {
     "name": "stderr",
     "output_type": "stream",
     "text": [
      "/home/patriciasazama/miniconda3/envs/saltmapping/lib/python3.13/site-packages/pystac_client/item_search.py:881: FutureWarning: get_items() is deprecated, use items() instead\n",
      "  warnings.warn(\n",
      " 12%|█████                                     | 59/495 [01:28<12:29,  1.72s/it]"
     ]
    },
    {
     "name": "stdout",
     "output_type": "stream",
     "text": [
      "sentinel-2  1989-01-01/1989-01-31 No items found for your search.\n",
      "landsat-5  1990-01-01/1990-01-31 band index 2 out of range (not in (1,))\n"
     ]
    },
    {
     "name": "stderr",
     "output_type": "stream",
     "text": [
      "/home/patriciasazama/miniconda3/envs/saltmapping/lib/python3.13/site-packages/pystac_client/item_search.py:881: FutureWarning: get_items() is deprecated, use items() instead\n",
      "  warnings.warn(\n",
      " 14%|██████                                    | 71/495 [01:54<13:15,  1.88s/it]"
     ]
    },
    {
     "name": "stdout",
     "output_type": "stream",
     "text": [
      "sentinel-2  1990-01-01/1990-01-31 No items found for your search.\n",
      "landsat-5  1991-01-01/1991-01-31 band index 2 out of range (not in (1,))\n"
     ]
    },
    {
     "name": "stderr",
     "output_type": "stream",
     "text": [
      "/home/patriciasazama/miniconda3/envs/saltmapping/lib/python3.13/site-packages/pystac_client/item_search.py:881: FutureWarning: get_items() is deprecated, use items() instead\n",
      "  warnings.warn(\n",
      " 17%|███████                                   | 83/495 [02:13<12:12,  1.78s/it]"
     ]
    },
    {
     "name": "stdout",
     "output_type": "stream",
     "text": [
      "sentinel-2  1991-01-01/1991-01-31 No items found for your search.\n",
      "landsat-5  1992-01-01/1992-01-31 band index 2 out of range (not in (1,))\n"
     ]
    },
    {
     "name": "stderr",
     "output_type": "stream",
     "text": [
      "/home/patriciasazama/miniconda3/envs/saltmapping/lib/python3.13/site-packages/pystac_client/item_search.py:881: FutureWarning: get_items() is deprecated, use items() instead\n",
      "  warnings.warn(\n",
      " 19%|████████                                  | 95/495 [02:27<10:31,  1.58s/it]"
     ]
    },
    {
     "name": "stdout",
     "output_type": "stream",
     "text": [
      "sentinel-2  1992-01-01/1992-01-31 No items found for your search.\n",
      "landsat-5  1993-01-01/1993-01-31 No items found for your search.\n"
     ]
    },
    {
     "name": "stderr",
     "output_type": "stream",
     "text": [
      " 22%|████████▊                                | 107/495 [02:28<07:05,  1.10s/it]"
     ]
    },
    {
     "name": "stdout",
     "output_type": "stream",
     "text": [
      "sentinel-2  1993-01-01/1993-01-31 No items found for your search.\n",
      "landsat-5  1994-01-01/1994-01-31 No items found for your search.\n"
     ]
    },
    {
     "name": "stderr",
     "output_type": "stream",
     "text": [
      " 24%|█████████▊                               | 119/495 [02:28<04:50,  1.30it/s]"
     ]
    },
    {
     "name": "stdout",
     "output_type": "stream",
     "text": [
      "sentinel-2  1994-01-01/1994-01-31 No items found for your search.\n"
     ]
    },
    {
     "name": "stderr",
     "output_type": "stream",
     "text": [
      " 24%|█████████▊                               | 119/495 [02:40<04:50,  1.30it/s]"
     ]
    },
    {
     "name": "stdout",
     "output_type": "stream",
     "text": [
      "landsat-5  1995-01-01/1995-01-31 band index 2 out of range (not in (1,))\n"
     ]
    },
    {
     "name": "stderr",
     "output_type": "stream",
     "text": [
      "/home/patriciasazama/miniconda3/envs/saltmapping/lib/python3.13/site-packages/pystac_client/item_search.py:881: FutureWarning: get_items() is deprecated, use items() instead\n",
      "  warnings.warn(\n",
      " 26%|██████████▊                              | 131/495 [02:54<07:14,  1.19s/it]"
     ]
    },
    {
     "name": "stdout",
     "output_type": "stream",
     "text": [
      "sentinel-2  1995-01-01/1995-01-31 No items found for your search.\n",
      "landsat-5  1996-01-01/1996-01-31 No items found for your search.\n"
     ]
    },
    {
     "name": "stderr",
     "output_type": "stream",
     "text": [
      " 29%|███████████▊                             | 143/495 [02:54<04:57,  1.19it/s]"
     ]
    },
    {
     "name": "stdout",
     "output_type": "stream",
     "text": [
      "sentinel-2  1996-01-01/1996-01-31 No items found for your search.\n",
      "landsat-5  1997-01-01/1997-01-31 band index 2 out of range (not in (1,))\n"
     ]
    },
    {
     "name": "stderr",
     "output_type": "stream",
     "text": [
      "/home/patriciasazama/miniconda3/envs/saltmapping/lib/python3.13/site-packages/pystac_client/item_search.py:881: FutureWarning: get_items() is deprecated, use items() instead\n",
      "  warnings.warn(\n",
      " 31%|████████████▊                            | 155/495 [03:07<05:12,  1.09it/s]"
     ]
    },
    {
     "name": "stdout",
     "output_type": "stream",
     "text": [
      "sentinel-2  1997-01-01/1997-01-31 No items found for your search.\n",
      "landsat-5  1998-01-01/1998-01-31 No items found for your search.\n"
     ]
    },
    {
     "name": "stderr",
     "output_type": "stream",
     "text": [
      " 34%|█████████████▊                           | 167/495 [03:08<03:34,  1.53it/s]"
     ]
    },
    {
     "name": "stdout",
     "output_type": "stream",
     "text": [
      "sentinel-2  1998-01-01/1998-01-31 No items found for your search.\n"
     ]
    },
    {
     "name": "stderr",
     "output_type": "stream",
     "text": [
      " 34%|█████████████▊                           | 167/495 [03:20<03:34,  1.53it/s]"
     ]
    },
    {
     "name": "stdout",
     "output_type": "stream",
     "text": [
      "landsat-5  1999-01-01/1999-01-31 band index 2 out of range (not in (1,))\n"
     ]
    },
    {
     "name": "stderr",
     "output_type": "stream",
     "text": [
      "/home/patriciasazama/miniconda3/envs/saltmapping/lib/python3.13/site-packages/pystac_client/item_search.py:881: FutureWarning: get_items() is deprecated, use items() instead\n",
      "  warnings.warn(\n",
      " 36%|██████████████▊                          | 179/495 [03:22<04:15,  1.24it/s]"
     ]
    },
    {
     "name": "stdout",
     "output_type": "stream",
     "text": [
      "sentinel-2  1999-01-01/1999-01-31 No items found for your search.\n",
      "landsat-5  2000-01-01/2000-01-31 band index 2 out of range (not in (1,))\n"
     ]
    },
    {
     "name": "stderr",
     "output_type": "stream",
     "text": [
      "/home/patriciasazama/miniconda3/envs/saltmapping/lib/python3.13/site-packages/pystac_client/item_search.py:881: FutureWarning: get_items() is deprecated, use items() instead\n",
      "  warnings.warn(\n",
      " 39%|███████████████▊                         | 191/495 [03:44<05:37,  1.11s/it]"
     ]
    },
    {
     "name": "stdout",
     "output_type": "stream",
     "text": [
      "sentinel-2  2000-01-01/2000-01-31 No items found for your search.\n",
      "landsat-5  2001-01-01/2001-01-31 No items found for your search.\n"
     ]
    },
    {
     "name": "stderr",
     "output_type": "stream",
     "text": [
      " 41%|████████████████▊                        | 203/495 [03:44<03:50,  1.27it/s]"
     ]
    },
    {
     "name": "stdout",
     "output_type": "stream",
     "text": [
      "sentinel-2  2001-01-01/2001-01-31 No items found for your search.\n"
     ]
    },
    {
     "name": "stderr",
     "output_type": "stream",
     "text": [
      "/home/patriciasazama/miniconda3/envs/saltmapping/lib/python3.13/site-packages/pystac_client/item_search.py:881: FutureWarning: get_items() is deprecated, use items() instead\n",
      "  warnings.warn(\n"
     ]
    },
    {
     "name": "stdout",
     "output_type": "stream",
     "text": [
      "landsat-5  2002-01-01/2002-01-31 band index 2 out of range (not in (1,))\n"
     ]
    },
    {
     "name": "stderr",
     "output_type": "stream",
     "text": [
      " 43%|█████████████████▊                       | 215/495 [04:00<04:25,  1.05it/s]"
     ]
    },
    {
     "name": "stdout",
     "output_type": "stream",
     "text": [
      "sentinel-2  2002-01-01/2002-01-31 No items found for your search.\n",
      "landsat-5  2003-01-01/2003-01-31 band index 2 out of range (not in (1,))\n"
     ]
    },
    {
     "name": "stderr",
     "output_type": "stream",
     "text": [
      "/home/patriciasazama/miniconda3/envs/saltmapping/lib/python3.13/site-packages/pystac_client/item_search.py:881: FutureWarning: get_items() is deprecated, use items() instead\n",
      "  warnings.warn(\n",
      " 46%|██████████████████▊                      | 227/495 [04:24<05:35,  1.25s/it]"
     ]
    },
    {
     "name": "stdout",
     "output_type": "stream",
     "text": [
      "sentinel-2  2003-01-01/2003-01-31 No items found for your search.\n",
      "landsat-5  2004-01-01/2004-01-31 band index 2 out of range (not in (1,))\n"
     ]
    },
    {
     "name": "stderr",
     "output_type": "stream",
     "text": [
      "/home/patriciasazama/miniconda3/envs/saltmapping/lib/python3.13/site-packages/pystac_client/item_search.py:881: FutureWarning: get_items() is deprecated, use items() instead\n",
      "  warnings.warn(\n",
      " 48%|███████████████████▊                     | 239/495 [04:48<06:20,  1.49s/it]"
     ]
    },
    {
     "name": "stdout",
     "output_type": "stream",
     "text": [
      "sentinel-2  2004-01-01/2004-01-31 No items found for your search.\n"
     ]
    },
    {
     "name": "stderr",
     "output_type": "stream",
     "text": [
      " 51%|████████████████████▊                    | 251/495 [04:48<04:16,  1.05s/it]"
     ]
    },
    {
     "name": "stdout",
     "output_type": "stream",
     "text": [
      "landsat-5  2005-01-01/2005-01-31 No items found for your search.\n",
      "sentinel-2  2005-01-01/2005-01-31 No items found for your search.\n"
     ]
    },
    {
     "name": "stderr",
     "output_type": "stream",
     "text": [
      " 51%|████████████████████▊                    | 251/495 [05:00<04:16,  1.05s/it]"
     ]
    },
    {
     "name": "stdout",
     "output_type": "stream",
     "text": [
      "landsat-5  2006-01-01/2006-01-31 band index 2 out of range (not in (1,))\n"
     ]
    },
    {
     "name": "stderr",
     "output_type": "stream",
     "text": [
      "/home/patriciasazama/miniconda3/envs/saltmapping/lib/python3.13/site-packages/pystac_client/item_search.py:881: FutureWarning: get_items() is deprecated, use items() instead\n",
      "  warnings.warn(\n",
      " 53%|█████████████████████▊                   | 263/495 [05:15<05:25,  1.40s/it]"
     ]
    },
    {
     "name": "stdout",
     "output_type": "stream",
     "text": [
      "sentinel-2  2006-01-01/2006-01-31 No items found for your search.\n",
      "landsat-5  2007-01-01/2007-01-31 band index 2 out of range (not in (1,))\n"
     ]
    },
    {
     "name": "stderr",
     "output_type": "stream",
     "text": [
      "/home/patriciasazama/miniconda3/envs/saltmapping/lib/python3.13/site-packages/pystac_client/item_search.py:881: FutureWarning: get_items() is deprecated, use items() instead\n",
      "  warnings.warn(\n",
      " 56%|██████████████████████▊                  | 275/495 [05:39<05:47,  1.58s/it]"
     ]
    },
    {
     "name": "stdout",
     "output_type": "stream",
     "text": [
      "sentinel-2  2007-01-01/2007-01-31 No items found for your search.\n"
     ]
    },
    {
     "name": "stderr",
     "output_type": "stream",
     "text": [
      " 58%|███████████████████████▊                 | 287/495 [05:39<03:51,  1.12s/it]"
     ]
    },
    {
     "name": "stdout",
     "output_type": "stream",
     "text": [
      "landsat-5  2008-01-01/2008-01-31 No items found for your search.\n",
      "sentinel-2  2008-01-01/2008-01-31 No items found for your search.\n"
     ]
    },
    {
     "name": "stderr",
     "output_type": "stream",
     "text": [
      " 58%|███████████████████████▊                 | 287/495 [05:50<03:51,  1.12s/it]"
     ]
    },
    {
     "name": "stdout",
     "output_type": "stream",
     "text": [
      "landsat-5  2009-01-01/2009-01-31 band index 2 out of range (not in (1,))\n"
     ]
    },
    {
     "name": "stderr",
     "output_type": "stream",
     "text": [
      "/home/patriciasazama/miniconda3/envs/saltmapping/lib/python3.13/site-packages/pystac_client/item_search.py:881: FutureWarning: get_items() is deprecated, use items() instead\n",
      "  warnings.warn(\n",
      " 60%|████████████████████████▊                | 299/495 [05:54<03:45,  1.15s/it]"
     ]
    },
    {
     "name": "stdout",
     "output_type": "stream",
     "text": [
      "sentinel-2  2009-01-01/2009-01-31 No items found for your search.\n",
      "landsat-5  2010-01-01/2010-01-31 band index 2 out of range (not in (1,))\n"
     ]
    },
    {
     "name": "stderr",
     "output_type": "stream",
     "text": [
      "/home/patriciasazama/miniconda3/envs/saltmapping/lib/python3.13/site-packages/pystac_client/item_search.py:881: FutureWarning: get_items() is deprecated, use items() instead\n",
      "  warnings.warn(\n",
      " 63%|█████████████████████████▊               | 311/495 [06:16<04:09,  1.36s/it]"
     ]
    },
    {
     "name": "stdout",
     "output_type": "stream",
     "text": [
      "sentinel-2  2010-01-01/2010-01-31 No items found for your search.\n"
     ]
    }
   ],
   "source": [
    "import json\n",
    "from tqdm import tqdm\n",
    "\n",
    "with open('date_range.json', 'r') as f:\n",
    "    dates = json.load(f)\n",
    "\n",
    "for date in tqdm(dates['date_ranges']):\n",
    "    if '01-01' in date:\n",
    "        try:\n",
    "            items, bands = query_satellite_items(mission=\"landsat-5\", bbox=bbox, date_range=date)\n",
    "            for item in items:\n",
    "                img_data = download_satellite_bands_from_item(item, bands, to_disk=False)\n",
    "                for (band_name, band_data, src_transform, src_crs) in img_data:\n",
    "                    add_image_to_mosaic(band_name, band_data, src_transform, src_crs, landsat5_mosaic_path)\n",
    "        except Exception as e:\n",
    "            print(\"landsat-5 \", date, e)\n",
    "    \n",
    "        try:\n",
    "            items, bands = query_satellite_items(mission=\"sentinel-2\", bbox=bbox, date_range=date)\n",
    "            for item in items:\n",
    "                img_data = download_satellite_bands_from_item(item, bands, to_disk=False)\n",
    "                for (band_name, band_data, src_transform, src_crs) in img_data:\n",
    "                    add_image_to_mosaic(band_name, band_data, src_transform, src_crs, sentinel2_mosaic_path)\n",
    "            \n",
    "        except Exception as e:\n",
    "            print(\"sentinel-2 \", date, e)"
   ]
  },
  {
   "cell_type": "code",
   "execution_count": null,
   "id": "ec23f101-354a-4d6e-bf59-c32ee1b22d18",
   "metadata": {},
   "outputs": [],
   "source": [
    "# import rasterio\n",
    "# import matplotlib.pyplot as plt\n",
    "\n",
    "# with rasterio.open(\"data/landsat_eastern_shore/LT05_L2SP_013033_19890115_02_T2_blue.tif\") as src:\n",
    "#     band = src.read(1)\n",
    "\n",
    "# plt.imshow(band, cmap='gray')\n",
    "# plt.colorbar()\n",
    "# plt.title(\"Band preview\")\n",
    "# plt.show()"
   ]
  },
  {
   "cell_type": "code",
   "execution_count": null,
   "id": "4b6db1d5-4f61-4dd0-9fdc-3192a0faeb2b",
   "metadata": {},
   "outputs": [],
   "source": [
    "# import rasterio\n",
    "# from rasterio.plot import reshape_as_image\n",
    "# import numpy as np\n",
    "\n",
    "# with rasterio.open(\"data/landsat_eastern_shore/LT05_L2SP_013033_19890115_02_T2_blue.tif\") as src:\n",
    "#     bounds = src.bounds\n",
    "#     image = src.read(1)  # Read single band\n",
    "#     image = np.ma.masked_equal(image, src.nodata)  # Mask no-data if applicable"
   ]
  },
  {
   "cell_type": "code",
   "execution_count": null,
   "id": "df7d3f57-0e8e-4390-b998-3151cdda756b",
   "metadata": {},
   "outputs": [],
   "source": [
    "# import matplotlib.pyplot as plt\n",
    "\n",
    "# image_min, image_max = np.nanmin(image), np.nanmax(image)\n",
    "# image_norm = (image - image_min) / (image_max - image_min)\n",
    "# image_uint8 = (255 * image_norm).astype('uint8')"
   ]
  },
  {
   "cell_type": "code",
   "execution_count": null,
   "id": "5fa40714-e358-4724-9da0-a977315e101d",
   "metadata": {},
   "outputs": [],
   "source": [
    "# from PIL import Image\n",
    "\n",
    "# png_path = \"raster_overlay.png\"\n",
    "# Image.fromarray(image_uint8).save(png_path)"
   ]
  },
  {
   "cell_type": "code",
   "execution_count": null,
   "id": "357ece80-64ad-4475-a2ce-52358f4ecfa7",
   "metadata": {},
   "outputs": [],
   "source": [
    "# import geopandas as gpd\n",
    "# import folium\n",
    "\n",
    "# # Load the GeoJSON\n",
    "# gdf = gpd.read_file(\"easternshore.geojson\")\n",
    "\n",
    "# # Reproject to Web Mercator (EPSG:3857) for accurate centroid\n",
    "# gdf_proj = gdf.to_crs(epsg=3857)\n",
    "\n",
    "# # Calculate centroid in projected space\n",
    "# centroid_proj = gdf_proj.geometry.centroid.iloc[0]\n",
    "\n",
    "# # Transform centroid back to WGS84 (EPSG:4326) for folium\n",
    "# centroid_wgs = gpd.GeoSeries(centroid_proj, crs=3857).to_crs(epsg=4326).geometry.iloc[0]\n",
    "\n",
    "# # Create folium map centered at the correct location\n",
    "# m = folium.Map(location=[centroid_wgs.y, centroid_wgs.x], zoom_start=8)\n",
    "\n",
    "# # Add GeoJSON to the map (original data in EPSG:4326)\n",
    "# folium.GeoJson(gdf).add_to(m)\n",
    "\n",
    "# folium.raster_layers.ImageOverlay(\n",
    "#     name=\"Raster Overlay\",\n",
    "#     image=png_path,\n",
    "#     bounds=map_bounds,\n",
    "#     opacity=0.6,\n",
    "#     interactive=True,\n",
    "#     cross_origin=False,\n",
    "#     zindex=1,\n",
    "# ).add_to(m)\n",
    "\n",
    "# folium.LayerControl().add_to(m)\n",
    "# m"
   ]
  },
  {
   "cell_type": "code",
   "execution_count": null,
   "id": "03d11d55-d10a-45d5-898f-56dd2d2d7c8e",
   "metadata": {},
   "outputs": [],
   "source": [
    "import rasterio\n",
    "import matplotlib.pyplot as plt\n",
    "\n",
    "with rasterio.open(\"data/landsat_eastern_shore.tif\") as src:\n",
    "    img = src.read(1)  # read the first band\n",
    "\n",
    "plt.figure(figsize=(10, 8))\n",
    "plt.imshow(img, cmap='gray')  # or use 'viridis', 'terrain', etc.\n",
    "plt.title(\"Mosaic Preview\")\n",
    "plt.axis('off')\n",
    "plt.colorbar(label='Pixel Value')\n",
    "plt.show()"
   ]
  }
 ],
 "metadata": {
  "kernelspec": {
   "display_name": "Python 3 (ipykernel)",
   "language": "python",
   "name": "python3"
  },
  "language_info": {
   "codemirror_mode": {
    "name": "ipython",
    "version": 3
   },
   "file_extension": ".py",
   "mimetype": "text/x-python",
   "name": "python",
   "nbconvert_exporter": "python",
   "pygments_lexer": "ipython3",
   "version": "3.13.2"
  }
 },
 "nbformat": 4,
 "nbformat_minor": 5
}
