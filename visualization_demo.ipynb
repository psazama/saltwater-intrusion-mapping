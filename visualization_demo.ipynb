{
 "cells": [
  {
   "cell_type": "code",
   "execution_count": null,
   "id": "0",
   "metadata": {},
   "outputs": [],
   "source": [
    "import geopandas as gpd\n",
    "import folium\n",
    "\n",
    "# Load the GeoJSON\n",
    "gdf = gpd.read_file(\"easternshore.geojson\")\n",
    "\n",
    "# Reproject to Web Mercator (EPSG:3857) for accurate centroid\n",
    "gdf_proj = gdf.to_crs(epsg=3857)\n",
    "\n",
    "# Calculate centroid in projected space\n",
    "centroid_proj = gdf_proj.geometry.centroid.iloc[0]\n",
    "\n",
    "# Transform centroid back to WGS84 (EPSG:4326) for folium\n",
    "centroid_wgs = gpd.GeoSeries(centroid_proj, crs=3857).to_crs(epsg=4326).geometry.iloc[0]\n",
    "\n",
    "# Create folium map centered at the correct location\n",
    "m = folium.Map(location=[centroid_wgs.y, centroid_wgs.x], zoom_start=8)\n",
    "\n",
    "# Add GeoJSON to the map (original data in EPSG:4326)\n",
    "folium.GeoJson(gdf).add_to(m)\n",
    "\n",
    "m"
   ]
  },
  {
   "cell_type": "code",
   "execution_count": null,
   "id": "1",
   "metadata": {},
   "outputs": [],
   "source": []
  },
  {
   "cell_type": "code",
   "execution_count": null,
   "id": "2",
   "metadata": {},
   "outputs": [],
   "source": [
    "tif_path = \"data/sentinel_eastern_shore_2018-06-01_2018-06-30.tif\""
   ]
  },
  {
   "cell_type": "code",
   "execution_count": null,
   "id": "3",
   "metadata": {},
   "outputs": [],
   "source": [
    "from rasterio.windows import Window\n",
    "import rasterio\n",
    "import numpy as np\n",
    "\n",
    "with rasterio.open(tif_path) as src:\n",
    "    try:\n",
    "        img = src.read(1)\n",
    "        print(np.unique(img))\n",
    "    except rasterio.errors.RasterioIOError as e:\n",
    "        print(f\"Failed to read block: {e}\")"
   ]
  },
  {
   "cell_type": "code",
   "execution_count": null,
   "id": "4",
   "metadata": {},
   "outputs": [],
   "source": [
    "from download_tools import get_mission, compute_ndwi"
   ]
  },
  {
   "cell_type": "code",
   "execution_count": null,
   "id": "5",
   "metadata": {},
   "outputs": [],
   "source": [
    "sentinel_mission = get_mission(\"sentinel-2\")"
   ]
  },
  {
   "cell_type": "code",
   "execution_count": null,
   "id": "6",
   "metadata": {},
   "outputs": [],
   "source": [
    "import matplotlib.pyplot as plt\n",
    "\n",
    "\n",
    "def find_non_nan_window(tif_path, window_size=512, stride=256):\n",
    "    with rasterio.open(tif_path) as src:\n",
    "        width, height = src.width, src.height\n",
    "        print(width, height)\n",
    "\n",
    "        for y in range(0, height - window_size + 1, stride):\n",
    "            for x in range(0, width - window_size + 1, stride):\n",
    "                window = Window(x, y, window_size, window_size)\n",
    "                data = src.read(1, window=window)\n",
    "\n",
    "                if np.isnan(data).any():\n",
    "                    continue  # Skip blank windows\n",
    "                else:\n",
    "                    print(f\"Found non-NaN data at x={x}, y={y}\")\n",
    "                    green_data = src.read(\n",
    "                        sentinel_mission[\"band_index\"][\"green\"], window=window\n",
    "                    )\n",
    "                    nir_data = src.read(\n",
    "                        sentinel_mission[\"band_index\"][\"nir08\"], window=window\n",
    "                    )\n",
    "\n",
    "                    # Get the window transform\n",
    "                    window_transform = src.window_transform(window)\n",
    "                    windowed_profile = src.profile.copy()\n",
    "                    windowed_profile.update(\n",
    "                        {\n",
    "                            \"height\": window.height,\n",
    "                            \"width\": window.width,\n",
    "                            \"transform\": window_transform,\n",
    "                        }\n",
    "                    )\n",
    "                    return (\n",
    "                        green_data,\n",
    "                        nir_data,\n",
    "                        windowed_profile,\n",
    "                    )  # Or return (data, x, y) if needed\n",
    "\n",
    "    print(\"No non-NaN windows found.\")\n",
    "    return None\n",
    "\n",
    "\n",
    "# Usage\n",
    "green_data, nir_data, profile = find_non_nan_window(tif_path)\n",
    "window_data = green_data\n",
    "\n",
    "if window_data is not None:\n",
    "    plt.imshow(window_data, cmap=\"gray\")\n",
    "    plt.colorbar(label=\"Pixel Value\")\n",
    "    plt.title(\"Non-NaN Window Preview\")\n",
    "    plt.axis(\"off\")\n",
    "    plt.show()"
   ]
  },
  {
   "cell_type": "code",
   "execution_count": null,
   "id": "7",
   "metadata": {},
   "outputs": [],
   "source": [
    "# # Usage\n",
    "# with rasterio.open(tif_path) as src:\n",
    "#     green_data = src.read(sentinel_mission[\"band_index\"][\"green\"])\n",
    "#     nir_data = src.read(sentinel_mission[\"band_index\"][\"nir08\"])\n",
    "#     profile = src.profile.copy()"
   ]
  },
  {
   "cell_type": "code",
   "execution_count": null,
   "id": "8",
   "metadata": {},
   "outputs": [],
   "source": [
    "compute_ndwi(green_data, nir_data, profile, out_path=None, display=True)"
   ]
  },
  {
   "cell_type": "code",
   "execution_count": null,
   "id": "9",
   "metadata": {},
   "outputs": [],
   "source": []
  },
  {
   "cell_type": "code",
   "execution_count": null,
   "id": "10",
   "metadata": {},
   "outputs": [],
   "source": []
  },
  {
   "cell_type": "code",
   "execution_count": null,
   "id": "11",
   "metadata": {},
   "outputs": [],
   "source": []
  }
 ],
 "metadata": {
  "kernelspec": {
   "display_name": "Python 3 (ipykernel)",
   "language": "python",
   "name": "python3"
  },
  "language_info": {
   "codemirror_mode": {
    "name": "ipython",
    "version": 3
   },
   "file_extension": ".py",
   "mimetype": "text/x-python",
   "name": "python",
   "nbconvert_exporter": "python",
   "pygments_lexer": "ipython3",
   "version": "3.13.2"
  }
 },
 "nbformat": 4,
 "nbformat_minor": 5
}
