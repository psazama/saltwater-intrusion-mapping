{
 "cells": [
  {
   "cell_type": "code",
   "execution_count": null,
   "id": "0",
   "metadata": {},
   "outputs": [],
   "source": [
    "import geopandas as gpd\n",
    "import folium\n",
    "\n",
    "# Load the GeoJSON\n",
    "gdf = gpd.read_file(\"easternshore.geojson\")\n",
    "\n",
    "# Reproject to Web Mercator (EPSG:3857) for accurate centroid\n",
    "gdf_proj = gdf.to_crs(epsg=3857)\n",
    "\n",
    "# Calculate centroid in projected space\n",
    "centroid_proj = gdf_proj.geometry.centroid.iloc[0]\n",
    "\n",
    "# Transform centroid back to WGS84 (EPSG:4326) for folium\n",
    "centroid_wgs = gpd.GeoSeries(centroid_proj, crs=3857).to_crs(epsg=4326).geometry.iloc[0]\n",
    "\n",
    "# Create folium map centered at the correct location\n",
    "m = folium.Map(location=[centroid_wgs.y, centroid_wgs.x], zoom_start=8)\n",
    "\n",
    "# Add GeoJSON to the map (original data in EPSG:4326)\n",
    "folium.GeoJson(gdf).add_to(m)\n",
    "\n",
    "m"
   ]
  },
  {
   "cell_type": "code",
   "execution_count": null,
   "id": "1",
   "metadata": {},
   "outputs": [],
   "source": []
  },
  {
   "cell_type": "code",
   "execution_count": null,
   "id": "2",
   "metadata": {},
   "outputs": [],
   "source": [
    "tif_path = \"data/sentinel_eastern_shore_2018-06-01_2018-06-30.tif\"\n",
    "tif_path = \"data/landsat_eastern_shore_1992-03-01_1992-03-31.tif\""
   ]
  },
  {
   "cell_type": "code",
   "execution_count": null,
   "id": "3",
   "metadata": {},
   "outputs": [],
   "source": [
    "from rasterio.windows import Window\n",
    "import rasterio\n",
    "import numpy as np\n",
    "\n",
    "with rasterio.open(tif_path) as src:\n",
    "    try:\n",
    "        img = src.read(1)\n",
    "        print(np.unique(img))\n",
    "    except rasterio.errors.RasterioIOError as e:\n",
    "        print(f\"Failed to read block: {e}\")"
   ]
  },
  {
   "cell_type": "code",
   "execution_count": null,
   "id": "4",
   "metadata": {},
   "outputs": [],
   "source": [
    "from download_tools import get_mission, compute_ndwi"
   ]
  },
  {
   "cell_type": "code",
   "execution_count": null,
   "id": "5",
   "metadata": {},
   "outputs": [],
   "source": [
    "mission = get_mission(\"sentinel-2\")\n",
    "mission = get_mission(\"landsat-5\")"
   ]
  },
  {
   "cell_type": "code",
   "execution_count": null,
   "id": "6",
   "metadata": {},
   "outputs": [],
   "source": [
    "import matplotlib.pyplot as plt\n",
    "\n",
    "def find_non_nan_window(tif_path, bands=None, window_size=512, stride=256, threshold_ratio=0.5):\n",
    "    \"\"\"\n",
    "    Finds a window in a raster where the data is mostly valid (not NaN or near-zero).\n",
    "    \n",
    "    Parameters:\n",
    "        tif_path (str): Path to the raster file.\n",
    "        bands (list or None): List of 1-based band indices to read and validate. If None, reads band 1.\n",
    "        window_size (int): Size of the square window.\n",
    "        stride (int): Step size for moving the window.\n",
    "        threshold_ratio (float): Minimum proportion of valid data required.\n",
    "\n",
    "    Returns:\n",
    "        Tuple of:\n",
    "            - data (np.ndarray or list of np.ndarrays): Array(s) for the selected window.\n",
    "            - profile (dict): Raster profile updated for the window.\n",
    "            - window (Window): The selected rasterio window.\n",
    "    \"\"\"\n",
    "    with rasterio.open(tif_path) as src:\n",
    "        width, height = src.width, src.height\n",
    "        band_list = bands if bands is not None else [1]\n",
    "\n",
    "        for y in range(0, height - window_size + 1, stride):\n",
    "            for x in range(0, width - window_size + 1, stride):\n",
    "                window = Window(x, y, window_size, window_size)\n",
    "\n",
    "                # Read and validate bands\n",
    "                data_list = []\n",
    "                valid = True\n",
    "\n",
    "                for b in band_list:\n",
    "                    data = src.read(b, window=window)\n",
    "                    data_list.append(data)\n",
    "\n",
    "                    valid_mask = ~np.isnan(data)\n",
    "                    if (\n",
    "                        np.sum(valid_mask) < threshold_ratio * data.size\n",
    "                        or np.sum(np.isclose(data, 0)) > (1 - threshold_ratio) * data.size\n",
    "                    ):\n",
    "                        valid = False\n",
    "                        break  # this window is not good\n",
    "\n",
    "                if valid:\n",
    "                    print(f\"Found valid window at x={x}, y={y}\")\n",
    "                    transform = src.window_transform(window)\n",
    "                    profile = src.profile.copy()\n",
    "                    profile.update({\n",
    "                        \"height\": window.height,\n",
    "                        \"width\": window.width,\n",
    "                        \"transform\": transform,\n",
    "                    })\n",
    "\n",
    "                    # Return single array if only one band, else list\n",
    "                    return (data_list[0] if len(data_list) == 1 else data_list), profile, window\n",
    "\n",
    "    print(\"No valid window found.\")\n",
    "    return None, None, None\n",
    "\n",
    "\n",
    "\n",
    "\n",
    "band_indices = [3, 4]  # e.g., green=3, nir=4\n",
    "([green_data, nir_data], profile, window) = find_non_nan_window(tif_path, bands=band_indices, window_size=800, stride=256)\n",
    "window_data = green_data\n",
    "\n",
    "if window_data is not None:\n",
    "    plt.imshow(window_data, cmap=\"gray\")\n",
    "    plt.colorbar(label=\"Pixel Value\")\n",
    "    plt.title(\"Non-NaN Window Preview\")\n",
    "    plt.axis(\"off\")\n",
    "    plt.show()"
   ]
  },
  {
   "cell_type": "code",
   "execution_count": null,
   "id": "7",
   "metadata": {},
   "outputs": [],
   "source": [
    "plt.imshow(green_data, cmap='viridis')\n",
    "plt.title(\"Green Band\")\n",
    "plt.show()\n",
    "\n",
    "plt.imshow(nir_data, cmap='viridis')\n",
    "plt.title(\"NIR Band\")\n",
    "plt.show()"
   ]
  },
  {
   "cell_type": "code",
   "execution_count": null,
   "id": "8",
   "metadata": {},
   "outputs": [],
   "source": [
    "compute_ndwi(green_data, nir_data, profile, out_path=None, display=True)"
   ]
  },
  {
   "cell_type": "code",
   "execution_count": null,
   "id": "9",
   "metadata": {},
   "outputs": [],
   "source": [
    "from salinity_tools import extract_salinity_features_from_mosaic"
   ]
  },
  {
   "cell_type": "code",
   "execution_count": null,
   "id": "10",
   "metadata": {},
   "outputs": [],
   "source": [
    "extract_salinity_features_from_mosaic(\n",
    "    tif_path,\n",
    "    mission[\"band_index\"],\n",
    "    \"data/water_mask.tif\",\n",
    "    \"data/salinity_feature_mask.tif\",\n",
    ")"
   ]
  },
  {
   "cell_type": "code",
   "execution_count": null,
   "id": "11",
   "metadata": {},
   "outputs": [],
   "source": [
    "with rasterio.open(\"data/water_mask.tif\") as src:\n",
    "    water_mask = src.read(1)\n",
    "    print(\"Total water pixels:\", np.sum(water_mask > 0))"
   ]
  },
  {
   "cell_type": "code",
   "execution_count": null,
   "id": "12",
   "metadata": {},
   "outputs": [],
   "source": [
    "window_data, profile, window = find_non_nan_window(\"data/water_mask.tif\", window_size=100, stride=50)\n",
    "\n",
    "if window_data is not None:\n",
    "    plt.imshow(window_data, cmap=\"gray\")\n",
    "    plt.colorbar(label=\"Pixel Value\")\n",
    "    plt.title(\"Non-NaN Window Preview\")\n",
    "    plt.axis(\"off\")\n",
    "    plt.show()\n",
    "\n",
    "print(np.sum(window_data))"
   ]
  },
  {
   "cell_type": "code",
   "execution_count": null,
   "id": "13",
   "metadata": {},
   "outputs": [],
   "source": [
    "window_data, profile, window = find_non_nan_window(\"data/salinity_feature_mask.tif\", window_size=100, stride=50)\n",
    "\n",
    "if window_data is not None:\n",
    "    plt.imshow(window_data, cmap=\"gray\")\n",
    "    plt.colorbar(label=\"Pixel Value\")\n",
    "    plt.title(\"Non-NaN Window Preview\")\n",
    "    plt.axis(\"off\")\n",
    "    plt.show()\n",
    "\n",
    "print(np.sum(window_data))"
   ]
  },
  {
   "cell_type": "code",
   "execution_count": null,
   "id": "14",
   "metadata": {},
   "outputs": [],
   "source": []
  },
  {
   "cell_type": "code",
   "execution_count": null,
   "id": "15",
   "metadata": {},
   "outputs": [],
   "source": []
  }
 ],
 "metadata": {
  "kernelspec": {
   "display_name": "Python 3 (ipykernel)",
   "language": "python",
   "name": "python3"
  },
  "language_info": {
   "codemirror_mode": {
    "name": "ipython",
    "version": 3
   },
   "file_extension": ".py",
   "mimetype": "text/x-python",
   "name": "python",
   "nbconvert_exporter": "python",
   "pygments_lexer": "ipython3",
   "version": "3.13.2"
  }
 },
 "nbformat": 4,
 "nbformat_minor": 5
}
